{
  "nbformat": 4,
  "nbformat_minor": 0,
  "metadata": {
    "colab": {
      "name": "Sentiment Analysis.ipynb",
      "provenance": [],
      "collapsed_sections": [],
      "mount_file_id": "1lY53n6frJOroTEsv9i14j6DNxOZoe1hM",
      "authorship_tag": "ABX9TyOdzlwnyiJfVlhq29130314",
      "include_colab_link": true
    },
    "kernelspec": {
      "name": "python3",
      "display_name": "Python 3"
    }
  },
  "cells": [
    {
      "cell_type": "markdown",
      "metadata": {
        "id": "view-in-github",
        "colab_type": "text"
      },
      "source": [
        "<a href=\"https://colab.research.google.com/github/shubhamnawani99/sentiment-analysis-tensorflow/blob/master/Sentiment_Analysis.ipynb\" target=\"_parent\"><img src=\"https://colab.research.google.com/assets/colab-badge.svg\" alt=\"Open In Colab\"/></a>"
      ]
    },
    {
      "cell_type": "markdown",
      "metadata": {
        "id": "QwQrkJC6xhDS",
        "colab_type": "text"
      },
      "source": [
        "#Training"
      ]
    },
    {
      "cell_type": "markdown",
      "metadata": {
        "id": "M-xKL72ArD-l",
        "colab_type": "text"
      },
      "source": [
        "## Import\n"
      ]
    },
    {
      "cell_type": "code",
      "metadata": {
        "id": "pONv7Zmaq_B9",
        "colab_type": "code",
        "colab": {}
      },
      "source": [
        "import json\n",
        "import tensorflow as tf\n",
        "import numpy as np\n",
        "import io\n",
        "from tensorflow.keras.preprocessing.text import Tokenizer\n",
        "from tensorflow.keras.preprocessing.sequence import pad_sequences\n",
        "import matplotlib.pyplot as plt"
      ],
      "execution_count": 0,
      "outputs": []
    },
    {
      "cell_type": "markdown",
      "metadata": {
        "id": "wl_si9J3rFBV",
        "colab_type": "text"
      },
      "source": [
        "##Pre-Processing"
      ]
    },
    {
      "cell_type": "code",
      "metadata": {
        "id": "1vHgAP92rxQH",
        "colab_type": "code",
        "colab": {}
      },
      "source": [
        "path_musical = \"/Musical_Instruments_5.json\"\n",
        "#path = \"/Cell_Phones_and_Accessories_5.json\"\n",
        "filepath = \"model.h5\"\n",
        "vocab_size = 10000 \n",
        "embedding_dim = 24\n",
        "max_length = 60 \n",
        "trunc_type='post'\n",
        "padding_type='post'\n",
        "oov_tok = \"<OOV>\"\n",
        "training_size = 5000"
      ],
      "execution_count": 0,
      "outputs": []
    },
    {
      "cell_type": "code",
      "metadata": {
        "id": "LXWuHtJVxtdr",
        "colab_type": "code",
        "colab": {}
      },
      "source": [
        "with open(path_musical, 'r') as f:\n",
        "    datastore = json.load(f)\n",
        "\n",
        "sentences = []\n",
        "labels = []\n",
        "\n",
        "for item in datastore:\n",
        "    sentences.append(item['reviewText'])\n",
        "    labels.append(item['overall'])"
      ],
      "execution_count": 0,
      "outputs": []
    },
    {
      "cell_type": "markdown",
      "metadata": {
        "id": "e0cw4Q8yra4t",
        "colab_type": "text"
      },
      "source": [
        "## Sequences and padding"
      ]
    },
    {
      "cell_type": "code",
      "metadata": {
        "id": "o3e6OR8wuxIH",
        "colab_type": "code",
        "colab": {}
      },
      "source": [
        "training_sentences = sentences[0:training_size]\n",
        "testing_sentences = sentences[training_size:]\n",
        "training_labels = labels[0:training_size]\n",
        "testing_labels = labels[training_size:]\n",
        "\n",
        "tokenizer = Tokenizer(num_words=vocab_size, oov_token=oov_tok)\n",
        "tokenizer.fit_on_texts(training_sentences)\n",
        "\n",
        "word_index = tokenizer.word_index\n",
        "\n",
        "training_sequences = tokenizer.texts_to_sequences(training_sentences)\n",
        "training_padded = pad_sequences(training_sequences, maxlen=max_length, padding=padding_type, truncating=trunc_type)\n",
        "\n",
        "testing_sequences = tokenizer.texts_to_sequences(testing_sentences)\n",
        "testing_padded = pad_sequences(testing_sequences, maxlen=max_length, padding=padding_type, truncating=trunc_type)\n"
      ],
      "execution_count": 0,
      "outputs": []
    },
    {
      "cell_type": "markdown",
      "metadata": {
        "id": "w7gumTVavDF6",
        "colab_type": "text"
      },
      "source": [
        "## Convolutional Neural Network Layers"
      ]
    },
    {
      "cell_type": "code",
      "metadata": {
        "id": "viXOXl-4vDVE",
        "colab_type": "code",
        "colab": {
          "base_uri": "https://localhost:8080/",
          "height": 319
        },
        "outputId": "bc0fcbb8-d276-478f-8be8-fd79c7df2f53"
      },
      "source": [
        "model = tf.keras.Sequential([\n",
        "    tf.keras.layers.Embedding(vocab_size, embedding_dim, input_length=max_length),\n",
        "    tf.keras.layers.Bidirectional(tf.keras.layers.LSTM(32)),\n",
        "    tf.keras.layers.Dropout(0.4),                       #to avoid overfitting\n",
        "    tf.keras.layers.Dense(24, activation='relu'),     \n",
        "    tf.keras.layers.Dense(6, activation='softmax')   \n",
        "])\n",
        "model.compile(loss='sparse_categorical_crossentropy',optimizer='adam',metrics=['accuracy']) \n",
        "model.summary()"
      ],
      "execution_count": 8,
      "outputs": [
        {
          "output_type": "stream",
          "text": [
            "Model: \"sequential\"\n",
            "_________________________________________________________________\n",
            "Layer (type)                 Output Shape              Param #   \n",
            "=================================================================\n",
            "embedding (Embedding)        (None, 60, 24)            240000    \n",
            "_________________________________________________________________\n",
            "bidirectional (Bidirectional (None, 64)                14592     \n",
            "_________________________________________________________________\n",
            "dropout (Dropout)            (None, 64)                0         \n",
            "_________________________________________________________________\n",
            "dense (Dense)                (None, 24)                1560      \n",
            "_________________________________________________________________\n",
            "dense_1 (Dense)              (None, 6)                 150       \n",
            "=================================================================\n",
            "Total params: 256,302\n",
            "Trainable params: 256,302\n",
            "Non-trainable params: 0\n",
            "_________________________________________________________________\n"
          ],
          "name": "stdout"
        }
      ]
    },
    {
      "cell_type": "markdown",
      "metadata": {
        "id": "um8BSaO3vU-L",
        "colab_type": "text"
      },
      "source": [
        "##Processing"
      ]
    },
    {
      "cell_type": "code",
      "metadata": {
        "id": "iupFF6VVvVFE",
        "colab_type": "code",
        "colab": {
          "base_uri": "https://localhost:8080/",
          "height": 101
        },
        "outputId": "c6d73035-4831-46b2-ee4d-e8d7f57bd84e"
      },
      "source": [
        "num_epochs = 5                                    #epoch set as 5 to demonstate the working of the neural network\n",
        "training_padded = np.array(training_padded)\n",
        "training_labels = np.array(training_labels)\n",
        "testing_padded = np.array(testing_padded)\n",
        "testing_labels = np.array(testing_labels)\n",
        "history = model.fit(training_padded, training_labels, epochs=num_epochs, validation_data=(testing_padded, testing_labels), verbose=1)\n",
        "e = model.layers[0]\n",
        "weights = e.get_weights()[0]\n",
        "print(weights.shape) # shape: (vocab_size, embedding_dim)"
      ],
      "execution_count": 10,
      "outputs": [
        {
          "output_type": "stream",
          "text": [
            "Epoch 1/2\n",
            "157/157 [==============================] - 7s 46ms/step - loss: 0.7508 - accuracy: 0.7028 - val_loss: 0.9902 - val_accuracy: 0.6330\n",
            "Epoch 2/2\n",
            "157/157 [==============================] - 7s 44ms/step - loss: 0.6309 - accuracy: 0.7504 - val_loss: 1.0375 - val_accuracy: 0.6546\n",
            "(10000, 24)\n"
          ],
          "name": "stdout"
        }
      ]
    },
    {
      "cell_type": "markdown",
      "metadata": {
        "id": "eabEWcV0v5jR",
        "colab_type": "text"
      },
      "source": [
        "##Testing vs Validation Accuracy\n"
      ]
    },
    {
      "cell_type": "code",
      "metadata": {
        "id": "ZS6XrRJOv5nk",
        "colab_type": "code",
        "colab": {
          "base_uri": "https://localhost:8080/",
          "height": 542
        },
        "outputId": "2c9775dd-1193-4777-ba59-e27121f43fb6"
      },
      "source": [
        "out_v = io.open('vecs.tsv', 'w', encoding='utf-8')\n",
        "out_m = io.open('meta.tsv', 'w', encoding='utf-8')\n",
        "for word_num in range(1, vocab_size):\n",
        "  word = reverse_word_index[word_num]\n",
        "  embeddings = weights[word_num]\n",
        "  out_m.write(word + \"\\n\")\n",
        "  out_v.write('\\t'.join([str(x) for x in embeddings]) + \"\\n\")\n",
        "out_v.close()\n",
        "out_m.close()"
      ],
      "execution_count": 11,
      "outputs": [
        {
          "output_type": "display_data",
          "data": {
            "image/png": "[encoded data removed]",
            "text/plain": [
              "<Figure size 432x288 with 1 Axes>"
            ]
          },
          "metadata": {
            "tags": [],
            "needs_background": "light"
          }
        },
        {
          "output_type": "display_data",
          "data": {
            "image/png": "[encoded data removed]",
            "text/plain": [
              "<Figure size 432x288 with 1 Axes>"
            ]
          },
          "metadata": {
            "tags": [],
            "needs_background": "light"
          }
        }
      ]
    },
    {
      "cell_type": "code",
      "metadata": {
        "id": "TivZh81ux5BC",
        "colab_type": "code",
        "colab": {
          "base_uri": "https://localhost:8080/",
          "height": 542
        },
        "outputId": "ebca6176-e1fc-4024-afbc-2b5a1b9db4d8"
      },
      "source": [
        "def plot_graphs(history, string):\n",
        "  plt.plot(history.history[string])\n",
        "  plt.plot(history.history['val_'+string])\n",
        "  plt.xlabel(\"Epochs\")\n",
        "  plt.ylabel(string)\n",
        "  plt.legend([string, 'val_'+string])\n",
        "  plt.show()\n",
        "\n",
        "plot_graphs(history,'accuracy')\n",
        "plot_graphs(history,'loss')\n",
        "\n",
        "model.save(filepath)"
      ],
      "execution_count": 27,
      "outputs": [
        {
          "output_type": "display_data",
          "data": {
            "image/png": "[encoded data removed]",
            "text/plain": [
              "<Figure size 432x288 with 1 Axes>"
            ]
          },
          "metadata": {
            "tags": [],
            "needs_background": "light"
          }
        },
        {
          "output_type": "display_data",
          "data": {
            "image/png": "[encoded data removed]",
            "text/plain": [
              "<Figure size 432x288 with 1 Axes>"
            ]
          },
          "metadata": {
            "tags": [],
            "needs_background": "light"
          }
        }
      ]
    },
    {
      "cell_type": "markdown",
      "metadata": {
        "id": "_s3mstJAyGf1",
        "colab_type": "text"
      },
      "source": [
        "#Prediction\n",
        "This program uses the model trained above to determine the rating of the feedback."
      ]
    },
    {
      "cell_type": "markdown",
      "metadata": {
        "id": "XWKqwVFAynDh",
        "colab_type": "text"
      },
      "source": [
        "##Pre-Process"
      ]
    },
    {
      "cell_type": "code",
      "metadata": {
        "id": "4mvVw-3rx0SP",
        "colab_type": "code",
        "colab": {}
      },
      "source": [
        "path = \"/Musical_Instruments_5.json\"\n",
        "filepath = \"model.h5\"\n",
        "vocab_size = 10000\n",
        "embedding_dim = 24\n",
        "max_length = 60\n",
        "trunc_type='post'\n",
        "padding_type='post'\n",
        "oov_tok = \"<OOV>\"\n",
        "training_size = 5000"
      ],
      "execution_count": 0,
      "outputs": []
    },
    {
      "cell_type": "markdown",
      "metadata": {
        "id": "dom0hJHrzUkY",
        "colab_type": "text"
      },
      "source": [
        "##Prediction Model"
      ]
    },
    {
      "cell_type": "code",
      "metadata": {
        "id": "xvGS7P0tzHRj",
        "colab_type": "code",
        "colab": {}
      },
      "source": [
        "with open(path, 'r') as f:\n",
        "    datastore = json.load(f)\n",
        "\n",
        "sentences = []\n",
        "labels = []\n",
        "\n",
        "for item in datastore:\n",
        "    sentences.append(item['reviewText'])\n",
        "\n",
        "training_sentences = sentences[0:training_size]\n",
        "tokenizer = Tokenizer(num_words=vocab_size, oov_token=oov_tok)\n",
        "tokenizer.fit_on_texts(training_sentences)\n",
        "\n",
        "model = tf.keras.models.load_model(filepath)"
      ],
      "execution_count": 0,
      "outputs": []
    },
    {
      "cell_type": "markdown",
      "metadata": {
        "id": "z9o8sR5IzaCE",
        "colab_type": "text"
      },
      "source": [
        "##Feedback Classification"
      ]
    },
    {
      "cell_type": "code",
      "metadata": {
        "id": "YmGY5pFQzKfH",
        "colab_type": "code",
        "colab": {
          "base_uri": "https://localhost:8080/",
          "height": 235
        },
        "outputId": "ccb1799d-83eb-4d05-e35a-fe91488b48da"
      },
      "source": [
        "i=0; average = 0; ch = 'y'\n",
        "while(ch == 'y'):\n",
        "    temp = input('Enter the feedback: ')\n",
        "    stock = [temp]\n",
        "    data = tokenizer.texts_to_sequences(stock)\n",
        "    data_padded = pad_sequences(data, maxlen=max_length, padding=padding_type, truncating=trunc_type)\n",
        "    data = np.array(data_padded)\n",
        "    classes = model.predict(data)\n",
        "    y_classes = classes.argmax(axis=-1)\n",
        "    print('The feedback is rated:',y_classes[0])\n",
        "    i = i+1\n",
        "    average = ((i-1)/(i)*average) + (y_classes/i)\n",
        "    ch = input('Continue?(y/n): ')\n",
        "print('The overall product rating is %.1f' %average[0])"
      ],
      "execution_count": 30,
      "outputs": [
        {
          "output_type": "stream",
          "text": [
            "Enter the feedback: The product was amazing\n",
            "The feedback is rated: 5\n",
            "Continue?(y/n): y\n",
            "Enter the feedback: The product is really good\n",
            "The feedback is rated: 5\n",
            "Continue?(y/n): y\n",
            "Enter the feedback: The product was bad\n",
            "The feedback is rated: 5\n",
            "Continue?(y/n): y\n",
            "Enter the feedback: worst\n",
            "The feedback is rated: 3\n",
            "Continue?(y/n): n\n",
            "The overall product rating is 4.5\n"
          ],
          "name": "stdout"
        }
      ]
    }
  ]
}